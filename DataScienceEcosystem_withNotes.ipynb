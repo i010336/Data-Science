{
 "cells": [
  {
   "cell_type": "markdown",
   "metadata": {},
   "source": [
    "<center>\n",
    "    <img src=\"https://cf-courses-data.s3.us.cloud-object-storage.appdomain.cloud/IBMDeveloperSkillsNetwork-DS0105EN-SkillsNetwork/labs/Module2/images/SN_web_lightmode.png\" width=\"300\" alt=\"cognitiveclass.ai logo\">\n",
    "</center>\n"
   ]
  },
  {
   "cell_type": "markdown",
   "metadata": {},
   "source": [
    "# Hands-on Lab: Create your Jupyter Notebook\n"
   ]
  },
  {
   "cell_type": "markdown",
   "metadata": {},
   "source": [
    "#### Add your code below following the instructions given in the course\n"
   ]
  },
  {
   "cell_type": "markdown",
   "metadata": {},
   "source": [
    "<p><h3 style=\"color:Red;\">Exercise 1: Create a Jupyter Notebook</h3></p>\n",
    "<p style=\"color:SlateBlue;\">Create a new Jupyter notebook called <code>DataScienceEcosystem.ipynb</code></p>\n",
    "<blockquote>\n",
    "<p style=\"color:SlateBlue;\">Note: The next item in the course will launch JupyterLite with an empty notebook with this name that you can use to complete rest of the Exercises. You can also use any other Jupyter notebook environment (e.g. Anaconda) that you prefer to complete the assignment.</p>\n",
    "</blockquote>\n",
    "<br>"
   ]
  },
  {
   "cell_type": "markdown",
   "metadata": {},
   "source": [
    "<p><h3 style=\"color:Red;\">Exercise 2: Create markdown cell with title of the notebook</h3>\n",
    "<p style=\"color:SlateBlue;\">>Create a markdown cell with the title <code>Data Science Tools and Ecosystem</code> using H1 style heading.</p>\n",
    "<p style=\"color:SlateBlue;\"><em><strong>Take a screenshot of the markdown cell and name it as <code>2-title.png</code></strong></em></p>"
   ]
  },
  {
   "cell_type": "markdown",
   "metadata": {},
   "source": [
    "\n",
    "# Data Science Tools and Ecosystem\n"
   ]
  },
  {
   "cell_type": "markdown",
   "metadata": {},
   "source": [
    "<p><h3 style=\"color:Red;\">Exercise 3 - Create a markdown cell for an introduction</h3></p>\n",
    "<p style=\"color:SlateBlue;\">Write an introductory sentence about the notebook such as the follows: </p>\n",
    "<p style=\"color:SlateBlue;\"><code>In this notebook, Data Science Tools and Ecosystem are summarized.</code></p>\n",
    "<p style=\"color:SlateBlue;\"><em><strong>Take a screenshot of the markdown cell and name it as <code>3-intro.png</code></strong></em><br></p>"
   ]
  },
  {
   "cell_type": "markdown",
   "metadata": {},
   "source": [
    "\n",
    "### Introduction\n",
    "\n",
    "In this notebook, Data Science Tools and Ecosystem are summarized."
   ]
  },
  {
   "cell_type": "markdown",
   "metadata": {},
   "source": [
    "<p><h3 style=\"color:Red;\">Exercise 10 - Insert a markdown cell to list Objectives</h3></p>\n",
    "<p style=\"color:SlateBlue;\">Below the introduction cell created in Exercise 3, insert a new markdown cell  to list the objectives that this notebook covered (i.e. some of the key takeaways from the course). In this new cell start with an introductory line titled: <code>Objectives:</code> in bold font. Then using an <code>unordered list</code> (bullets) indicate 3 to 5 items covered in this notebook, such as <code>List popular languages for Data Science</code>.</p>\n",
    "<p style=\"color:SlateBlue;\"><em><strong>Take a screenshot of the markdown cell and name it as <code>10-objectives.png</code></strong></em><br></p>"
   ]
  },
  {
   "cell_type": "markdown",
   "metadata": {},
   "source": [
    "\n",
    "## Objectives\n",
    "\n",
    "This notebook summarizes some of the key takeaways from the course, including:\n",
    "\n",
    "- List popular languages for Data Science\n",
    "- List popular libraries used by Data Scientists\n",
    "- List examples of development environment open source tools\n",
    "- Utilizing markdown cells in Jupyter notebook\n",
    "- Examples of code blocks in Jupyter notebook"
   ]
  },
  {
   "cell_type": "markdown",
   "metadata": {},
   "source": [
    "<p><h3 style=\"color:Red;\">Exercise 4 - Create a markdown cell to list data science languages</h3></p>\n",
    "<p style=\"color:SlateBlue;\">Start the cell with an overview line such as: </p>\n",
    "<p style=\"color:SlateBlue;\"><code>Some of the popular languages that Data Scientists use are:</code><br>Then create an <code>ordered list</code> (i.e. numbered) listing 3 (or more) commonly used languages for data science.</p>\n",
    "<p style=\"color:SlateBlue;\"><em><strong>Take a screenshot of the markdown cell and name it as <code>4-dslanguages.png</code></strong></em><br><br></p>"
   ]
  },
  {
   "cell_type": "markdown",
   "metadata": {},
   "source": [
    "\n",
    "### Some of the popular languages that Data Scientists use are:\n",
    "\n",
    "1. Python\n",
    "2. R\n",
    "3. SQL\n",
    "4. Scala\n",
    "5. Julia"
   ]
  },
  {
   "cell_type": "markdown",
   "metadata": {},
   "source": [
    "<p><h3 style=\"color:Red;\">Exercise 5 - Create a markdown cell to list data science libraries</h3></p>\n",
    "<p style=\"color:SlateBlue;\">Add an overview line to the cell like:</p>\n",
    "<p style=\"color:SlateBlue;\"><code>Some of the commonly used libraries used by Data Scientists include:</code><br>Below this line add an <code>ordered list</code> listing 3 (or more) commonly used libraries in data science.</p>\n",
    "<p style=\"color:SlateBlue;\"><em><strong>Take a screenshot of the markdown cell and name it as <code>5-dslibraries.png</code></strong></em><br><br></p>"
   ]
  },
  {
   "cell_type": "markdown",
   "metadata": {},
   "source": [
    "\n",
    "### Some of the commonly used libraries used by Data Scientists include:\n",
    "\n",
    "1. Pandas\n",
    "2. NumPy\n",
    "3. Matplotlib\n",
    "4. Scikit-learn\n",
    "5. TensorFlow\n",
    "6. ggplot2\n",
    "7. Caffe"
   ]
  },
  {
   "cell_type": "markdown",
   "metadata": {},
   "source": [
    "<p><h3 style=\"color:Red;\">Exercise 6 - Create a markdown cell with a table of Data Science tools</h3></p>\n",
    "<p style=\"color:SlateBlue;\">Create a single column table in this cell with the first row containing the header <code>Data Science Tools</code>. The subsequent three rows in the table should indicate three development environment open source tools used in data science.</p>\n",
    "<p style=\"color:SlateBlue;\"><em><strong>Take a screenshot of the markdown cell and name it as <code>6-dstools.png</code></strong></em></p>\n",
    "<p style=\"color:SlateBlue;\"><em>Hint: Refer to <strong>Lab: Using Markdowns in Jupyter Notebooks</strong> to create a table.</em><br><br></p>"
   ]
  },
  {
   "cell_type": "markdown",
   "metadata": {},
   "source": [
    "\n",
    "### Three development environment open source tools used in data science are:\n",
    "\n",
    "| Data Science Tools |\n",
    "| -------------- |\n",
    "| Jupyter Notebook |\n",
    "| RStudio |\n",
    "| Apache Zeppelin |"
   ]
  },
  {
   "cell_type": "markdown",
   "metadata": {},
   "source": [
    "<p><h3 style=\"color:Red;\">Exercise 7 - Create a markdown cell introducing arithmetic expression examples</h3></p>\n",
    "<p style=\"color:SlateBlue;\">Add a line in this cell with H3 style heading with text like:</p>\n",
    "<p style=\"color:SlateBlue;\"><code>Below are a few examples of evaluating arithmetic expressions in Python</code>.</p>\n",
    "<p style=\"color:SlateBlue;\"><em><strong>Take a screenshot of the markdown cell and name it as <code>7-introarithmetic.png</code></strong></em><br><br></p>"
   ]
  },
  {
   "cell_type": "markdown",
   "metadata": {},
   "source": [
    "\n",
    "### Below are a few examples of evaluating arithmetic expressions in Python\n"
   ]
  },
  {
   "cell_type": "markdown",
   "metadata": {},
   "source": [
    "<p><h3 style=\"color:Red;\">Exercise 8 - Create a code cell to multiply and add numbers</h3></p>\n",
    "<p style=\"color:SlateBlue;\">In this code cell evaluate the expression <code>(3*4)+5</code>.<br><em>Insert a comment line before the expression to explain the operation e.g. <code> This a simple arithmetic expression to mutiply then add integers</code>.</em><br>Then execute the cell to ensure the expression returns the expected output of <code>17</code>.</p>\n",
    "<p style=\"color:SlateBlue;\"><em><strong>Take a screenshot of the code cell with output and name it as <code>8-multiplyandaddintegers.png</code></strong></em><br><br></p>"
   ]
  },
  {
   "cell_type": "code",
   "execution_count": 1,
   "metadata": {},
   "outputs": [
    {
     "data": {
      "text/plain": [
       "17"
      ]
     },
     "execution_count": 1,
     "metadata": {},
     "output_type": "execute_result"
    }
   ],
   "source": [
    "# This a simple arithmetic expression to mutiply then add integers\n",
    "(3*4)+5"
   ]
  },
  {
   "cell_type": "markdown",
   "metadata": {},
   "source": [
    "<p><h3 style=\"color:Red;\">Exercise 9 - Create a code cell to convert minutes to hours</h3></p>\n",
    "<p style=\"color:SlateBlue;\">In this code cell write an expression that converts <code>200 minutes</code> into <code>hours</code>.<br><em>Insert a comment line before the expression to explain the operation e.g. <code> This will convert 200 minutes to hours by diving by 60</code>.</em><br>Run the cell to evaluate the expression.</p>\n",
    "<p style=\"color:SlateBlue;\"><em><strong>Take a screenshot of the code cell with output and name it as <code>9-hourstominutes.png</code></strong></em><br><br></p>"
   ]
  },
  {
   "cell_type": "code",
   "execution_count": 8,
   "metadata": {},
   "outputs": [
    {
     "name": "stdout",
     "output_type": "stream",
     "text": [
      "200 minutes is equal to  3.33 hours.\n"
     ]
    }
   ],
   "source": [
    "# This will convert 200 minutes to hours by diving by 60\n",
    "mins = 200 # number of minutes\n",
    "conv = 60 # 60 mins in an hour\n",
    "print (mins, \"minutes is equal to \", round(mins / conv, 2), \"hours.\")"
   ]
  },
  {
   "cell_type": "markdown",
   "metadata": {},
   "source": [
    "<p><h3 style=\"color:Red;\">Exercise 11 - Create a markdown cell to indicate the Author's name</h3></p>\n",
    "<p style=\"color:SlateBlue;\">In this markdown cell markdown cell include the following text <code>Author</code> in <code>H2 style heading</code>. Include your <code>name</code> as regular text below the word <code>Author</code>.</p>\n",
    "<p style=\"color:SlateBlue;\"><em><strong>Take a screenshot of the markdown cell and name it as <code>11-authordetails.png</code></strong></em></p>\n",
    "<blockquote>\n",
    "<p style=\"color:SlateBlue;\">Note: Save and download the notebook.<br><br></p>\n",
    "</blockquote>"
   ]
  },
  {
   "cell_type": "markdown",
   "metadata": {},
   "source": [
    "\n",
    "## Author\n",
    "\n",
    "D Olson"
   ]
  },
  {
   "cell_type": "markdown",
   "metadata": {},
   "source": [
    "<p><h3 style=\"color:Red;\">Exercise 12 - Share your notebook through GitHub</h3></p>\n",
    "<p style=\"color:SlateBlue;\">Upload your notebook to a public respository on <strong>GitHub</strong>.</p>\n",
    "<blockquote>\n",
    "<p style=\"color:SlateBlue;\">Note : Please keep the <strong>GitHub repo link</strong> of the notebook handy.<br>You will need to submit this link as a part of the assignment evaluation.</p>\n",
    "</blockquote>"
   ]
  },
  {
   "cell_type": "markdown",
   "metadata": {},
   "source": [
    "Copyright ©2024 IBM Corporation. All rights reserved.\n"
   ]
  }
 ],
 "metadata": {
  "kernelspec": {
   "display_name": "Python 3 (ipykernel)",
   "language": "python",
   "name": "python3"
  },
  "language_info": {
   "codemirror_mode": {
    "name": "ipython",
    "version": 3
   },
   "file_extension": ".py",
   "mimetype": "text/x-python",
   "name": "python",
   "nbconvert_exporter": "python",
   "pygments_lexer": "ipython3",
   "version": "3.11.11"
  },
  "prev_pub_hash": "9e1985db9844176462bd1d5863048c9f3d17404bbc6a648be9084b0c42b29347"
 },
 "nbformat": 4,
 "nbformat_minor": 4
}
